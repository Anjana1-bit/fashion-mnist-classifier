{
 "cells": [],
 "metadata": {
  "kernelspec": {
   "display_name": "Python (fashion-env)",
   "language": "python",
   "name": "fashion-env"
  },
  "language_info": {
   "name": "python",
   "version": "3.12.3"
  }
 },
 "nbformat": 4,
 "nbformat_minor": 5
}
