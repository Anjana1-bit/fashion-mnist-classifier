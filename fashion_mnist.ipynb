# ----------------------------------------------------
# 1. Setup and Library Imports
# ----------------------------------------------------
import numpy as np
import matplotlib.pyplot as plt
import seaborn as sns
import tensorflow as tf
from tensorflow.keras.datasets import fashion_mnist
from tensorflow.keras.models import Sequential
from tensorflow.keras.layers import Conv2D, MaxPooling2D, Flatten, Dense, Dropout
…np.random.seed(42)
tf.random.set_seed(42)
